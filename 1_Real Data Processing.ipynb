{
 "cells": [
  {
   "cell_type": "markdown",
   "metadata": {},
   "source": [
    "# Real Data Processing"
   ]
  },
  {
   "cell_type": "markdown",
   "metadata": {},
   "source": [
    "## Download\n",
    "\n",
    "We'll download all of the real data from HPWREN's Fire Ignition Library (FIgLib) all at once in a large tar (22 GB at this date).\n",
    "\n",
    "- http://hpwren.ucsd.edu/HPWREN-FIgLib\n",
    "- http://hpwren.ucsd.edu/HPWREN-FIgLib/HPWREN-FIgLib-Data.tar\n",
    "\n",
    "```bash\n",
    "wget http://hpwren.ucsd.edu/HPWREN-FIgLib/HPWREN-FIgLib-Data.tar\n",
    "```"
   ]
  },
  {
   "cell_type": "markdown",
   "metadata": {},
   "source": [
    "This file takes a very long time to download as it is not compressed and the host is not set up for content delivery. For these reasons, we'll upload a compressed version of this dataset, as well as the down-selected dataset to an AWS S3 bucket for personal use.\n",
    "\n",
    "```bash\n",
    "todo\n",
    "```"
   ]
  },
  {
   "cell_type": "code",
   "execution_count": null,
   "metadata": {},
   "outputs": [],
   "source": []
  },
  {
   "cell_type": "markdown",
   "metadata": {},
   "source": []
  }
 ],
 "metadata": {
  "kernelspec": {
   "display_name": "Python 3.10.4 64-bit",
   "language": "python",
   "name": "python3"
  },
  "language_info": {
   "name": "python",
   "version": "3.10.4"
  },
  "orig_nbformat": 4,
  "vscode": {
   "interpreter": {
    "hash": "31f2aee4e71d21fbe5cf8b01ff0e069b9275f58929596ceb00d14d90e3e16cd6"
   }
  }
 },
 "nbformat": 4,
 "nbformat_minor": 2
}
